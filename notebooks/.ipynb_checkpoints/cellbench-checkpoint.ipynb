{
 "cells": [
  {
   "cell_type": "code",
   "execution_count": 57,
   "metadata": {},
   "outputs": [],
   "source": [
    "# set up enviroments\n",
    "import torch\n",
    "import sys\n",
    "import numpy as np\n",
    "import pandas as pd\n",
    "import scanpy.api as sc\n",
    "from anndata import AnnData\n",
    "\n",
    "%matplotlib inline\n",
    "from matplotlib import pyplot as plt\n",
    "import matplotlib as mpl\n",
    "\n",
    "sys.path.append(\"../\")\n",
    "from args_parser import get_parser\n",
    "from model.mars import MARS\n",
    "from model.experiment_dataset import ExperimentDataset\n",
    "from data.benchmarks import BenchmarkData\n",
    "import warnings\n",
    "warnings.filterwarnings('ignore')"
   ]
  },
  {
   "cell_type": "markdown",
   "metadata": {},
   "source": [
    "# Setting parameters"
   ]
  },
  {
   "cell_type": "markdown",
   "metadata": {},
   "source": [
    "Loading default parameters"
   ]
  },
  {
   "cell_type": "code",
   "execution_count": 58,
   "metadata": {},
   "outputs": [],
   "source": [
    "params, unknown = get_parser().parse_known_args()"
   ]
  },
  {
   "cell_type": "code",
   "execution_count": 59,
   "metadata": {},
   "outputs": [
    {
     "data": {
      "text/plain": [
       "Namespace(cuda=False, epochs=30, epochs_pretrain=25, learning_rate=0.001, lr_scheduler_gamma=0.5, lr_scheduler_step=20, manual_seed=3, model_file='trained_models/source.pt', pretrain=True, pretrain_batch=None)"
      ]
     },
     "execution_count": 59,
     "metadata": {},
     "output_type": "execute_result"
    }
   ],
   "source": [
    "params"
   ]
  },
  {
   "cell_type": "markdown",
   "metadata": {},
   "source": [
    "Checking if CUDA device is available"
   ]
  },
  {
   "cell_type": "code",
   "execution_count": 60,
   "metadata": {},
   "outputs": [],
   "source": [
    "if torch.cuda.is_available() and not params.cuda:\n",
    "        print(\"WARNING: You have a CUDA device, so you should probably run with --cuda\")\n",
    "device = 'cuda:0' if torch.cuda.is_available() and params.cuda else 'cpu'\n",
    "params.device = device"
   ]
  },
  {
   "cell_type": "markdown",
   "metadata": {},
   "source": [
    "# Loading dataset"
   ]
  },
  {
   "cell_type": "markdown",
   "metadata": {},
   "source": [
    "Loading Cellbench dataset. Datasets are already concatenated and only the subset of genes that appears in both datasets is retained"
   ]
  },
  {
   "cell_type": "code",
   "execution_count": 61,
   "metadata": {},
   "outputs": [
    {
     "data": {
      "text/plain": [
       "AnnData object with n_obs × n_vars = 4373 × 10217 \n",
       "    obs: 'experiment', 'ground_truth'"
      ]
     },
     "execution_count": 61,
     "metadata": {},
     "output_type": "execute_result"
    }
   ],
   "source": [
    "adata = sc.read_h5ad('../benchmark_datasets/cellbench.h5ad')\n",
    "adata"
   ]
  },
  {
   "cell_type": "code",
   "execution_count": 62,
   "metadata": {},
   "outputs": [],
   "source": [
    "sc.pp.normalize_per_cell(adata, counts_per_cell_after=1e4)\n",
    "sc.pp.scale(adata, max_value=10, zero_center=True)"
   ]
  },
  {
   "cell_type": "code",
   "execution_count": null,
   "metadata": {},
   "outputs": [],
   "source": [
    "sc.pp.neighbors(adata, n_neighbors=30, use_rep='X')\n",
    "sc.pp.pca(adata, n_comps=50)\n",
    "sc.tl.tsne(adata)\n",
    "sc.pl.tsne(adata, color=['experiment','ground_truth'],size=50)"
   ]
  },
  {
   "cell_type": "code",
   "execution_count": null,
   "metadata": {},
   "outputs": [],
   "source": [
    "datasets = list(set(adata.obs['experiment']))\n",
    "datasets"
   ]
  },
  {
   "cell_type": "markdown",
   "metadata": {},
   "source": [
    "# Train and evaluate MARS"
   ]
  },
  {
   "cell_type": "markdown",
   "metadata": {},
   "source": [
    "### Use 10x as annotated, and CelSeq2 as unannotated "
   ]
  },
  {
   "cell_type": "markdown",
   "metadata": {},
   "source": [
    "Prepare annotated, unannotated and pretrain datasets"
   ]
  },
  {
   "cell_type": "code",
   "execution_count": null,
   "metadata": {},
   "outputs": [],
   "source": [
    "exp_10x = adata[adata.obs['experiment'] == '10x_5cl',:]\n",
    "exp_celseq2 = adata[adata.obs['experiment'] == 'CelSeq2_5cl',:]"
   ]
  },
  {
   "cell_type": "code",
   "execution_count": null,
   "metadata": {},
   "outputs": [],
   "source": [
    "y_10x = np.array(exp_10x.obs['ground_truth'], dtype=np.int64)\n",
    "annotated = ExperimentDataset(exp_10x.X.toarray(), exp_10x.obs_names, exp_10x.var_names, '10x', y_10x)"
   ]
  },
  {
   "cell_type": "code",
   "execution_count": null,
   "metadata": {},
   "outputs": [],
   "source": [
    "y_celseq2 = np.array(exp_celseq2.obs['ground_truth'], dtype=np.int64) # ground truth annotations will be only used for evaluation\n",
    "unannnotated = ExperimentDataset(exp_celseq2.X.toarray(), exp_celseq2.obs_names, exp_celseq2.var_names, 'celseq2', y_celseq2)"
   ]
  },
  {
   "cell_type": "code",
   "execution_count": null,
   "metadata": {},
   "outputs": [],
   "source": [
    "pretrain_data = ExperimentDataset(exp_celseq2.X.toarray(), exp_celseq2.obs_names, exp_celseq2.var_names, 'celseq2')"
   ]
  },
  {
   "cell_type": "code",
   "execution_count": null,
   "metadata": {},
   "outputs": [],
   "source": [
    "n_clusters = len(np.unique(unannnotated.y))"
   ]
  },
  {
   "cell_type": "markdown",
   "metadata": {},
   "source": [
    "Initialize MARS"
   ]
  },
  {
   "cell_type": "code",
   "execution_count": null,
   "metadata": {},
   "outputs": [],
   "source": [
    "mars = MARS(n_clusters, params, [annotated], unannnotated, pretrain_data, hid_dim_1=1000, hid_dim_2=100)"
   ]
  },
  {
   "cell_type": "markdown",
   "metadata": {},
   "source": [
    "Run MARS in evaluation mode. Ground truth annotations will be used to evaluate MARS performance and scores will be returned"
   ]
  },
  {
   "cell_type": "code",
   "execution_count": null,
   "metadata": {},
   "outputs": [],
   "source": [
    "adata, landmarks, scores = mars.train(evaluation_mode=True, save_all_embeddings=False) # evaluation mode"
   ]
  },
  {
   "cell_type": "code",
   "execution_count": 25,
   "metadata": {},
   "outputs": [
    {
     "data": {
      "text/plain": [
       "AnnData object with n_obs × n_vars = 4373 × 10217 \n",
       "    obs: 'MARS_labels', 'experiment', 'truth_labels'\n",
       "    obsm: 'MARS_embedding'"
      ]
     },
     "execution_count": 25,
     "metadata": {},
     "output_type": "execute_result"
    }
   ],
   "source": [
    "adata"
   ]
  },
  {
   "cell_type": "markdown",
   "metadata": {},
   "source": [
    "Check MARS performance"
   ]
  },
  {
   "cell_type": "code",
   "execution_count": 26,
   "metadata": {},
   "outputs": [
    {
     "data": {
      "text/plain": [
       "{'accuracy': 1.0,\n",
       " 'adj_mi': 1.0,\n",
       " 'adj_rand': 1.0,\n",
       " 'f1_score': 1.0,\n",
       " 'nmi': 1.0,\n",
       " 'precision': 1.0,\n",
       " 'recall': 1.0}"
      ]
     },
     "execution_count": 26,
     "metadata": {},
     "output_type": "execute_result"
    }
   ],
   "source": [
    "scores"
   ]
  },
  {
   "cell_type": "markdown",
   "metadata": {},
   "source": [
    "Visualize in MARS embedding space"
   ]
  },
  {
   "cell_type": "code",
   "execution_count": 27,
   "metadata": {},
   "outputs": [],
   "source": [
    "#create anndata object using MARS embeddings as X\n",
    "adata_mars = AnnData(adata.obsm['MARS_embedding'])\n",
    "adata_mars.obs['MARS_labels'] = pd.Categorical(adata.obs['MARS_labels'])\n",
    "adata_mars.obs['ground_truth'] = pd.Categorical(adata.obs['truth_labels'])\n",
    "adata_mars.obs['experiment'] = pd.Categorical(adata.obs['experiment'])"
   ]
  },
  {
   "cell_type": "code",
   "execution_count": 28,
   "metadata": {},
   "outputs": [
    {
     "data": {
      "text/plain": [
       "(4373, 100)"
      ]
     },
     "execution_count": 28,
     "metadata": {},
     "output_type": "execute_result"
    }
   ],
   "source": [
    "np.shape(adata_mars.X) # 100-dimensional MARS embeddings space"
   ]
  },
  {
   "cell_type": "code",
   "execution_count": 30,
   "metadata": {},
   "outputs": [
    {
     "data": {
      "image/png": "[encoded data removed]",
      "text/plain": [
       "<Figure size 1978.56x288 with 2 Axes>"
      ]
     },
     "metadata": {},
     "output_type": "display_data"
    }
   ],
   "source": [
    "# visualize only unannotated dataset\n",
    "mars_celseq2 = adata_mars[adata_mars.obs['experiment'] == 'celseq2',:]\n",
    "sc.pp.neighbors(mars_celseq2, n_neighbors=30, use_rep='X')\n",
    "sc.tl.umap(mars_celseq2)\n",
    "sc.pl.umap(mars_celseq2, color=['ground_truth','MARS_labels'],size=50)"
   ]
  },
  {
   "cell_type": "markdown",
   "metadata": {},
   "source": [
    "### Use CelSeq2 as annotated, and 10x as unannotated "
   ]
  },
  {
   "cell_type": "code",
   "execution_count": 35,
   "metadata": {},
   "outputs": [
    {
     "name": "stdout",
     "output_type": "stream",
     "text": [
      "== Dataset: Found 570 items \n",
      "== Dataset: Found 5 classes\n",
      "== Dataset: Found 3803 items \n",
      "== Dataset: Found 5 classes\n"
     ]
    }
   ],
   "source": [
    "annotated = ExperimentDataset(exp_celseq2.X.toarray(), exp_celseq2.obs_names, exp_celseq2.var_names, 'celseq2', y_celseq2)\n",
    "unannnotated = ExperimentDataset(exp_10x.X.toarray(), exp_10x.obs_names, exp_10x.var_names, '10x', y_10x)\n",
    "pretrain_data = ExperimentDataset(exp_10x.X.toarray(), exp_10x.obs_names, exp_10x.var_names, '10x')\n",
    "n_clusters = len(np.unique(unannnotated.y))"
   ]
  },
  {
   "cell_type": "markdown",
   "metadata": {},
   "source": [
    "Run MARS"
   ]
  },
  {
   "cell_type": "code",
   "execution_count": 36,
   "metadata": {},
   "outputs": [],
   "source": [
    "mars = MARS(n_clusters, params, [annotated], unannnotated, pretrain_data, hid_dim_1=1000, hid_dim_2=100)"
   ]
  },
  {
   "cell_type": "code",
   "execution_count": 37,
   "metadata": {},
   "outputs": [
    {
     "name": "stdout",
     "output_type": "stream",
     "text": [
      "Pretraining..\n",
      "\n",
      "=== Epoch: 30 ===\n",
      "Train acc: 1.0\n"
     ]
    },
    {
     "name": "stderr",
     "output_type": "stream",
     "text": [
      "... storing 'MARS_labels' as categorical\n"
     ]
    }
   ],
   "source": [
    "adata, landmarks, scores = mars.train(evaluation_mode=True) # evaluation mode"
   ]
  },
  {
   "cell_type": "code",
   "execution_count": 38,
   "metadata": {},
   "outputs": [
    {
     "data": {
      "text/plain": [
       "{'accuracy': 1.0,\n",
       " 'adj_mi': 1.0,\n",
       " 'adj_rand': 1.0,\n",
       " 'f1_score': 1.0,\n",
       " 'nmi': 1.0,\n",
       " 'precision': 1.0,\n",
       " 'recall': 1.0}"
      ]
     },
     "execution_count": 38,
     "metadata": {},
     "output_type": "execute_result"
    }
   ],
   "source": [
    "scores"
   ]
  },
  {
   "cell_type": "code",
   "execution_count": 39,
   "metadata": {},
   "outputs": [],
   "source": [
    "#create anndata object using MARS embeddings as X\n",
    "adata_mars = AnnData(adata.obsm['MARS_embedding'])\n",
    "adata_mars.obs['MARS_labels'] = pd.Categorical(adata.obs['MARS_labels'])\n",
    "adata_mars.obs['ground_truth'] = pd.Categorical(adata.obs['truth_labels'])\n",
    "adata_mars.obs['experiment'] = pd.Categorical(adata.obs['experiment'])"
   ]
  },
  {
   "cell_type": "code",
   "execution_count": 41,
   "metadata": {},
   "outputs": [
    {
     "data": {
      "image/png": "[encoded data removed]",
      "text/plain": [
       "<Figure size 1978.56x288 with 2 Axes>"
      ]
     },
     "metadata": {},
     "output_type": "display_data"
    }
   ],
   "source": [
    "# visualize only unannotated dataset\n",
    "mars_10x = adata_mars[adata_mars.obs['experiment'] == '10x',:]\n",
    "sc.pp.neighbors(mars_10x, n_neighbors=30, use_rep='X')\n",
    "sc.tl.umap(mars_10x)\n",
    "sc.pl.umap(mars_10x, color=['ground_truth','MARS_labels'],size=50)"
   ]
  }
 ],
 "metadata": {
  "kernelspec": {
   "display_name": "Python3 (rnaenv)",
   "language": "python",
   "name": "rnaenv"
  },
  "language_info": {
   "codemirror_mode": {
    "name": "ipython",
    "version": 3
   },
   "file_extension": ".py",
   "mimetype": "text/x-python",
   "name": "python",
   "nbconvert_exporter": "python",
   "pygments_lexer": "ipython3",
   "version": "3.5.6"
  }
 },
 "nbformat": 4,
 "nbformat_minor": 2
}
